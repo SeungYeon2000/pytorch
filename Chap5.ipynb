{
  "nbformat": 4,
  "nbformat_minor": 0,
  "metadata": {
    "colab": {
      "name": "Chap5.ipynb",
      "provenance": [],
      "authorship_tag": "ABX9TyPQJo1QTMNQn/p3W+AY4bYh",
      "include_colab_link": true
    },
    "kernelspec": {
      "name": "python3",
      "display_name": "Python 3"
    },
    "language_info": {
      "name": "python"
    }
  },
  "cells": [
    {
      "cell_type": "markdown",
      "metadata": {
        "id": "view-in-github",
        "colab_type": "text"
      },
      "source": [
        "<a href=\"https://colab.research.google.com/github/SeungYeon2000/pytorch/blob/main/Chap5.ipynb\" target=\"_parent\"><img src=\"https://colab.research.google.com/assets/colab-badge.svg\" alt=\"Open In Colab\"/></a>"
      ]
    },
    {
      "cell_type": "markdown",
      "metadata": {
        "id": "9EH8aEQ2dl_J"
      },
      "source": [
        "# **Data 얻기 절차 (케플러와 동일)**\n",
        "1. data 얻기(from 기존 data)\n",
        "2. 시각화\n",
        "3. 가장 간단한 모델 선정\n",
        "4. data split\n",
        "5. 잠정적 특징, 사이즈로 시작, 반복\n",
        "6. validation\n",
        "7. look back"
      ]
    },
    {
      "cell_type": "markdown",
      "metadata": {
        "id": "77KWkWeQe3-u"
      },
      "source": [
        "# **1. Gatering Some Data**"
      ]
    },
    {
      "cell_type": "code",
      "metadata": {
        "id": "iCSkTkgtdedf"
      },
      "source": [
        "import numpy as np\n",
        "import torch"
      ],
      "execution_count": 6,
      "outputs": []
    },
    {
      "cell_type": "code",
      "metadata": {
        "id": "CYdFpF7weUI1"
      },
      "source": [
        "# In[2]:\n",
        "t_c = [0.5,  14.0, 15.0, 28.0, 11.0,  8.0,  3.0, -4.0,  6.0, 13.0, 21.0]        # temperatures in Celsius\n",
        "t_u = [35.7, 55.9, 58.2, 81.9, 56.3, 48.9, 33.9, 21.8, 48.4, 60.4, 68.4]        # values our unknown units\n",
        "t_c = torch.tensor(t_c)\n",
        "t_u = torch.tensor(t_u)"
      ],
      "execution_count": 7,
      "outputs": []
    },
    {
      "cell_type": "markdown",
      "metadata": {
        "id": "Jlx8NFjefCqx"
      },
      "source": [
        "# **2. Visiualizing the data**"
      ]
    },
    {
      "cell_type": "markdown",
      "metadata": {
        "id": "nWsgIxn8fOhQ"
      },
      "source": [
        "# **3. Choosing a linear model as a first try (가장 간단한 모델 선정)**\n",
        "t_c = w * t_u + b로 두기 (w = weight, b = bias)\n",
        "-> w와 b를 찾아야 loss function 이 최소가 됨\n",
        "\n",
        "loss 계산 : 실제값과 예상값의 차이 (t_p - t_c,  t_p = predicted temperature), 항상 양수가 되어야하므로 \\t_p - t_c\\나 (t_p - t_c)^2로 표현해서 error 줄일 수 있음\n",
        "\n",
        "여기서 절댓값보단 제곱형으로 쓸 것\n",
        "\n"
      ]
    },
    {
      "cell_type": "code",
      "metadata": {
        "id": "D8WsyIeBfYUs"
      },
      "source": [
        "# In[3]:\n",
        "def model(t_u, w, b):\n",
        "    return w * t_u + b      # t_u : input tensor, w : weight parameter, b : bias parameter"
      ],
      "execution_count": 8,
      "outputs": []
    },
    {
      "cell_type": "code",
      "metadata": {
        "id": "lbgIyQI0us2_"
      },
      "source": [
        "# In[4]\n",
        "def loss_fn(t_p, t_c):\n",
        "    squared_diffs = (t_p - t_c)**2\n",
        "    return squared_diffs.mean()"
      ],
      "execution_count": 9,
      "outputs": []
    },
    {
      "cell_type": "code",
      "metadata": {
        "colab": {
          "base_uri": "https://localhost:8080/"
        },
        "id": "-nkURNnhx0jX",
        "outputId": "7250a759-4726-4363-f3ae-03ff2e372fab"
      },
      "source": [
        "# In[5]\n",
        "w = torch.ones(())\n",
        "b = torch.zeros(())\n",
        "\n",
        "t_p = model(t_u, w, b)\n",
        "t_p"
      ],
      "execution_count": 10,
      "outputs": [
        {
          "output_type": "execute_result",
          "data": {
            "text/plain": [
              "tensor([35.7000, 55.9000, 58.2000, 81.9000, 56.3000, 48.9000, 33.9000, 21.8000,\n",
              "        48.4000, 60.4000, 68.4000])"
            ]
          },
          "metadata": {
            "tags": []
          },
          "execution_count": 10
        }
      ]
    },
    {
      "cell_type": "code",
      "metadata": {
        "colab": {
          "base_uri": "https://localhost:8080/"
        },
        "id": "MHdCzWyeyBAa",
        "outputId": "53d18e2d-08e3-486d-e949-fb44b44ebaab"
      },
      "source": [
        "# In[6]\n",
        "loss = loss_fn(t_p, t_c)\n",
        "loss"
      ],
      "execution_count": 11,
      "outputs": [
        {
          "output_type": "execute_result",
          "data": {
            "text/plain": [
              "tensor(1763.8848)"
            ]
          },
          "metadata": {
            "tags": []
          },
          "execution_count": 11
        }
      ]
    },
    {
      "cell_type": "markdown",
      "metadata": {
        "id": "ncXFgV0kXltT"
      },
      "source": [
        "# **Broadcasting**"
      ]
    },
    {
      "cell_type": "code",
      "metadata": {
        "colab": {
          "base_uri": "https://localhost:8080/"
        },
        "id": "48FwMvUmWU4Y",
        "outputId": "a00f4459-aabf-42b0-cadd-db5aecb70af2"
      },
      "source": [
        "#In[7]:\n",
        "x = torch.ones(())\n",
        "y = torch.ones(3,1)\n",
        "z = torch.ones(1,3)\n",
        "a = torch.ones(2, 1, 1)\n",
        "print(f\"shapes: x: {x.shape}, y: {y.shape}\")\n",
        "print(f\" z: {z.shape}, a: {a.shape}\")\n",
        "print(\"x * y:\", (x * y).shape)\n",
        "print(\"y * z:\", (y * z).shape)\n",
        "print(\"y * z * a:\", (y * z * a).shape)"
      ],
      "execution_count": 4,
      "outputs": [
        {
          "output_type": "stream",
          "text": [
            "shapes: x: torch.Size([]), y: torch.Size([3, 1])\n",
            " z: torch.Size([1, 3]), a: torch.Size([2, 1, 1])\n",
            "x * y: torch.Size([3, 1])\n",
            "y * z: torch.Size([3, 3])\n",
            "y * z * a: torch.Size([2, 3, 3])\n"
          ],
          "name": "stdout"
        }
      ]
    },
    {
      "cell_type": "markdown",
      "metadata": {
        "id": "vi3f5A5rXraF"
      },
      "source": [
        "# **4. Optimizing the loss function (gradient descent algorithm)**"
      ]
    },
    {
      "cell_type": "code",
      "metadata": {
        "id": "pdXTM5ibXqxr"
      },
      "source": [
        "# In[8]:\n",
        "delta = 0.1\n",
        "loss_rate_of_change_w = \\     # 역슬래쉬가 왜 나와..?\n",
        "(loss_fn(model(t_u, w + delta, b), t_c) -\n",
        "loss_fn(model(t_u, w - delta, b), t_c)) / (2.0 * delta)"
      ],
      "execution_count": 12,
      "outputs": []
    },
    {
      "cell_type": "markdown",
      "metadata": {
        "id": "2SiZHaD2Ygfx"
      },
      "source": [
        "w에서 unit increase -> change in loss (negative : w 증가시켜서 손실 줄여야/ positive : w 줄여서 손실 줄여야)\n",
        "\n",
        "scaling factor (how much?) = learning_rate로 표기\n",
        "\n"
      ]
    },
    {
      "cell_type": "code",
      "metadata": {
        "id": "1JcXO9esZF2K"
      },
      "source": [
        "# In[9]:\n",
        "learning_rate = 1e-2\n",
        "w = w - learning_rate * loss_rate_of_change_w"
      ],
      "execution_count": 13,
      "outputs": []
    },
    {
      "cell_type": "code",
      "metadata": {
        "id": "2zyAjorGZJMy"
      },
      "source": [
        "# In[10]:\n",
        "loss_rate_of_change_b = \\\n",
        "(loss_fn(model(t_u, w, b + delta), t_c) -\n",
        "loss_fn(model(t_u, w, b - delta), t_c)) / (2.0 * delta)\n",
        "b = b - learning_rate * loss_rate_of_change_b"
      ],
      "execution_count": 14,
      "outputs": []
    },
    {
      "cell_type": "code",
      "metadata": {
        "id": "EzFMcLenZ31e"
      },
      "source": [
        "# In[11]:\n",
        "def dloss_fn(t_p, t_c):\n",
        "    dsq_diffs = 2 * (t_p - t_c) / t_p.size(0)\n",
        "    return dsq_diffs"
      ],
      "execution_count": 16,
      "outputs": []
    },
    {
      "cell_type": "code",
      "metadata": {
        "id": "YaOaPzFuaA5c"
      },
      "source": [
        "# In[12]:\n",
        "def dmodel_dw(t_u, w, b):\n",
        "    return t_u"
      ],
      "execution_count": 17,
      "outputs": []
    },
    {
      "cell_type": "code",
      "metadata": {
        "id": "fYu7vB9faG9D"
      },
      "source": [
        "# In[13]:\n",
        "def dmodel_db(t_u, w, b):\n",
        "    return 1.0"
      ],
      "execution_count": 19,
      "outputs": []
    },
    {
      "cell_type": "code",
      "metadata": {
        "id": "NyOi5gjYaOMq"
      },
      "source": [
        "# In[14]:\n",
        "def grad_fn(t_u, t_c, t_p, w, b):\n",
        "    dloss_dtp = dloss_fn(t_p, t_c)\n",
        "    dloss_dw = dloss_dtp * dmodel_dw(t_u, w, b)\n",
        "    dloss_db = dloss_dtp * dmodel_db(t_u, w, b)\n",
        "    return torch.stack([dloss_dw.sum(), dloss_db.sum()])    #summation = broadcasting의 반대(우리가 parameter들을 모델의 input vector 전체에 적용할 때)"
      ],
      "execution_count": 21,
      "outputs": []
    },
    {
      "cell_type": "markdown",
      "metadata": {
        "id": "cmdKza7uayF5"
      },
      "source": [
        "# **5. Iterating**\n",
        "training iteration during which we update the parameters = epoch\n",
        "\n",
        "model convergence에 관한 내용"
      ]
    },
    {
      "cell_type": "code",
      "metadata": {
        "id": "Nxl4yU0Ja2Mo"
      },
      "source": [
        "# In[15]\n",
        "def training_loop(n_epochs, learning_rate, params, t_u, t_c):\n",
        "    for epoch in range(1, n_epochs + 1):\n",
        "        w, b = params\n",
        "\n",
        "        t_p = model(t_u, w, b)  # <1>\n",
        "        loss = loss_fn(t_p, t_c)\n",
        "        grad = grad_fn(t_u, t_c, t_p, w, b)  # <2>\n",
        "\n",
        "        params = params - learning_rate * grad\n",
        "\n",
        "        print('Epoch %d, Loss %f' % (epoch, float(loss))) # <3>\n",
        "            \n",
        "    return params"
      ],
      "execution_count": 22,
      "outputs": []
    },
    {
      "cell_type": "code",
      "metadata": {
        "id": "G29YEU9ibLPQ"
      },
      "source": [
        "# In[17]\n",
        "def training_loop(n_epochs, learning_rate, params, t_u, t_c,\n",
        "                  print_params=True):\n",
        "    for epoch in range(1, n_epochs + 1):\n",
        "        w, b = params\n",
        "\n",
        "        t_p = model(t_u, w, b)  # <1>\n",
        "        loss = loss_fn(t_p, t_c)\n",
        "        grad = grad_fn(t_u, t_c, t_p, w, b)  # <2>\n",
        "\n",
        "        params = params - learning_rate * grad\n",
        "\n",
        "        if epoch in {1, 2, 3, 10, 11, 99, 100, 4000, 5000}:  # <3>\n",
        "            print('Epoch %d, Loss %f' % (epoch, float(loss)))\n",
        "            if print_params:\n",
        "                print('    Params:', params)\n",
        "                print('    Grad:  ', grad)\n",
        "        if epoch in {4, 12, 101}:\n",
        "            print('...')\n",
        "\n",
        "        if not torch.isfinite(loss).all():\n",
        "            break  # <3>\n",
        "            \n",
        "    return params"
      ],
      "execution_count": 23,
      "outputs": []
    },
    {
      "cell_type": "markdown",
      "metadata": {
        "id": "XaQ0B56ybkA7"
      },
      "source": [
        "만약 loss가 무한으로 가면 params가 너무 큰 값이 나오면서 발산.\n",
        "\n",
        "-> learning_rate * grad를 어떻게 제한할 수 있을까? : learning_rate 값 줄이기"
      ]
    },
    {
      "cell_type": "code",
      "metadata": {
        "colab": {
          "base_uri": "https://localhost:8080/"
        },
        "id": "6SbGIblTbwGA",
        "outputId": "55bcbb99-7158-41eb-b97f-25113c6e22bc"
      },
      "source": [
        "# In [17]:\n",
        "training_loop(\n",
        "    n_epochs = 100, \n",
        "    learning_rate = 1e-4, \n",
        "    params = torch.tensor([1.0, 0.0]), \n",
        "    t_u = t_u, \n",
        "    t_c = t_c)"
      ],
      "execution_count": 25,
      "outputs": [
        {
          "output_type": "stream",
          "text": [
            "Epoch 1, Loss 1763.884766\n",
            "    Params: tensor([ 0.5483, -0.0083])\n",
            "    Grad:   tensor([4517.2964,   82.6000])\n",
            "Epoch 2, Loss 323.090515\n",
            "    Params: tensor([ 0.3623, -0.0118])\n",
            "    Grad:   tensor([1859.5493,   35.7843])\n",
            "Epoch 3, Loss 78.929634\n",
            "    Params: tensor([ 0.2858, -0.0135])\n",
            "    Grad:   tensor([765.4666,  16.5122])\n",
            "...\n",
            "Epoch 10, Loss 29.105247\n",
            "    Params: tensor([ 0.2324, -0.0166])\n",
            "    Grad:   tensor([1.4803, 3.0544])\n",
            "Epoch 11, Loss 29.104168\n",
            "    Params: tensor([ 0.2323, -0.0169])\n",
            "    Grad:   tensor([0.5781, 3.0384])\n",
            "...\n",
            "Epoch 99, Loss 29.023582\n",
            "    Params: tensor([ 0.2327, -0.0435])\n",
            "    Grad:   tensor([-0.0533,  3.0226])\n",
            "Epoch 100, Loss 29.022667\n",
            "    Params: tensor([ 0.2327, -0.0438])\n",
            "    Grad:   tensor([-0.0532,  3.0226])\n"
          ],
          "name": "stdout"
        },
        {
          "output_type": "execute_result",
          "data": {
            "text/plain": [
              "tensor([ 0.2327, -0.0438])"
            ]
          },
          "metadata": {
            "tags": []
          },
          "execution_count": 25
        }
      ]
    },
    {
      "cell_type": "markdown",
      "metadata": {
        "id": "xDamUETHcMTV"
      },
      "source": [
        "위 코드라면 loss가 무한은 아니지만 loss가 너무 느리게 줆.\n",
        "+ weight가 bias보다 50배는 커서 적당한 learning_rate 찾기 힘듦.\n",
        "\n",
        "-> 따라서 다른 formulation 필요 : t_u * 0.1 곱하기(input의 범위가 -1.0 ~ 1.0이도록)"
      ]
    },
    {
      "cell_type": "code",
      "metadata": {
        "id": "Hl9MLLLXcbvS"
      },
      "source": [
        "# In [19]:\n",
        "t_un = 0.1 * t_u      # t_un : normalized version이라는 뜻"
      ],
      "execution_count": 26,
      "outputs": []
    },
    {
      "cell_type": "code",
      "metadata": {
        "colab": {
          "base_uri": "https://localhost:8080/"
        },
        "id": "rcxDMKctdZX_",
        "outputId": "6ce9d50e-1a1b-41bf-8097-e68ff5d353a9"
      },
      "source": [
        "# In [20]:\n",
        "training_loop(\n",
        "    n_epochs = 100, \n",
        "    learning_rate = 1e-2, \n",
        "    params = torch.tensor([1.0, 0.0]), \n",
        "    t_u = t_un, # <1>\n",
        "    t_c = t_c)\n",
        "\n",
        "# leraning_rate가 1e-2로 동일하지만 parameters가 blow up 하지 않음!"
      ],
      "execution_count": 27,
      "outputs": [
        {
          "output_type": "stream",
          "text": [
            "Epoch 1, Loss 80.364342\n",
            "    Params: tensor([1.7761, 0.1064])\n",
            "    Grad:   tensor([-77.6140, -10.6400])\n",
            "Epoch 2, Loss 37.574913\n",
            "    Params: tensor([2.0848, 0.1303])\n",
            "    Grad:   tensor([-30.8623,  -2.3864])\n",
            "Epoch 3, Loss 30.871077\n",
            "    Params: tensor([2.2094, 0.1217])\n",
            "    Grad:   tensor([-12.4631,   0.8587])\n",
            "...\n",
            "Epoch 10, Loss 29.030489\n",
            "    Params: tensor([ 2.3232, -0.0710])\n",
            "    Grad:   tensor([-0.5355,  2.9295])\n",
            "Epoch 11, Loss 28.941877\n",
            "    Params: tensor([ 2.3284, -0.1003])\n",
            "    Grad:   tensor([-0.5240,  2.9264])\n",
            "...\n",
            "Epoch 99, Loss 22.214186\n",
            "    Params: tensor([ 2.7508, -2.4910])\n",
            "    Grad:   tensor([-0.4453,  2.5208])\n",
            "Epoch 100, Loss 22.148710\n",
            "    Params: tensor([ 2.7553, -2.5162])\n",
            "    Grad:   tensor([-0.4446,  2.5165])\n"
          ],
          "name": "stdout"
        },
        {
          "output_type": "execute_result",
          "data": {
            "text/plain": [
              "tensor([ 2.7553, -2.5162])"
            ]
          },
          "metadata": {
            "tags": []
          },
          "execution_count": 27
        }
      ]
    },
    {
      "cell_type": "code",
      "metadata": {
        "colab": {
          "base_uri": "https://localhost:8080/"
        },
        "id": "8pAugbA-eHPk",
        "outputId": "cdef233c-efc2-4a44-fb1e-f18db0267db9"
      },
      "source": [
        "# In [21]:\n",
        "params = training_loop(\n",
        "    n_epochs = 5000, \n",
        "    learning_rate = 1e-2, \n",
        "    params = torch.tensor([1.0, 0.0]), \n",
        "    t_u = t_un, \n",
        "    t_c = t_c,\n",
        "    print_params = False)\n",
        "\n",
        "params"
      ],
      "execution_count": 29,
      "outputs": [
        {
          "output_type": "stream",
          "text": [
            "Epoch 1, Loss 80.364342\n",
            "Epoch 2, Loss 37.574913\n",
            "Epoch 3, Loss 30.871077\n",
            "...\n",
            "Epoch 10, Loss 29.030489\n",
            "Epoch 11, Loss 28.941877\n",
            "...\n",
            "Epoch 99, Loss 22.214186\n",
            "Epoch 100, Loss 22.148710\n",
            "...\n",
            "Epoch 4000, Loss 2.927680\n",
            "Epoch 5000, Loss 2.927648\n"
          ],
          "name": "stdout"
        },
        {
          "output_type": "execute_result",
          "data": {
            "text/plain": [
              "tensor([  5.3671, -17.3012])"
            ]
          },
          "metadata": {
            "tags": []
          },
          "execution_count": 29
        }
      ]
    },
    {
      "cell_type": "code",
      "metadata": {
        "colab": {
          "base_uri": "https://localhost:8080/",
          "height": 1000
        },
        "id": "RfFkJhk7ecyw",
        "outputId": "28cfbc23-c043-40f3-b752-462eca6b8195"
      },
      "source": [
        "# In [22]:\n",
        "%matplotlib inline\n",
        "from matplotlib import pyplot as plt\n",
        "\n",
        "t_p = model(t_un, *params)  # unknown units, *params = pass the elements of params as individual arguments/ same as model(t_un, params[0], params[1])\n",
        "\n",
        "fig = plt.figure(dpi=600)\n",
        "plt.xlabel(\"Temperature (°Fahrenheit)\")\n",
        "plt.ylabel(\"Temperature (°Celsius)\")\n",
        "plt.plot(t_u.numpy(), t_p.detach().numpy()) # raw unknown values\n",
        "plt.plot(t_u.numpy(), t_c.numpy(), 'o')\n",
        "plt.savefig(\"temp_unknown_plot.png\", format=\"png\")  # bookskip\n"
      ],
      "execution_count": 30,
      "outputs": [
        {
          "output_type": "display_data",
          "data": {
            "image/png": "[encoded data removed]",
            "text/plain": [
              "<Figure size 3600x2400 with 1 Axes>"
            ]
          },
          "metadata": {
            "tags": [],
            "needs_background": "light"
          }
        }
      ]
    },
    {
      "cell_type": "code",
      "metadata": {
        "id": "km_LdyJhllfc"
      },
      "source": [
        "# In[3]:\n",
        "def model(t_u, w, b):\n",
        "    return w * t_u + b  "
      ],
      "execution_count": 31,
      "outputs": []
    },
    {
      "cell_type": "code",
      "metadata": {
        "id": "sPm6qCx4lmkU"
      },
      "source": [
        "# In[4]\n",
        "def loss_fn(t_p, t_c):\n",
        "    squared_diffs = (t_p - t_c)**2\n",
        "    return squared_diffs.mean()"
      ],
      "execution_count": 32,
      "outputs": []
    },
    {
      "cell_type": "code",
      "metadata": {
        "id": "b5tbeHpBlmnQ"
      },
      "source": [
        "# In[5] :\n",
        "params = torch.tensor([1.0, 0.0], requires_grad=True)"
      ],
      "execution_count": 33,
      "outputs": []
    },
    {
      "cell_type": "code",
      "metadata": {
        "colab": {
          "base_uri": "https://localhost:8080/"
        },
        "id": "HpAicWfql-OJ",
        "outputId": "238c2dc7-28ee-4732-8ccf-f64e8771e977"
      },
      "source": [
        "# In[6] :\n",
        "params.grad is None"
      ],
      "execution_count": 34,
      "outputs": [
        {
          "output_type": "execute_result",
          "data": {
            "text/plain": [
              "True"
            ]
          },
          "metadata": {
            "tags": []
          },
          "execution_count": 34
        }
      ]
    },
    {
      "cell_type": "code",
      "metadata": {
        "colab": {
          "base_uri": "https://localhost:8080/"
        },
        "id": "snHDiTXj1Yii",
        "outputId": "ae24f199-b9aa-428f-b2cb-13cda6e7fc0a"
      },
      "source": [
        "# In[7]:\n",
        "# populate it\n",
        "loss = loss_fn(model(t_u, *params),t_c)\n",
        "loss.backward()\n",
        "\n",
        "params.grad"
      ],
      "execution_count": 36,
      "outputs": [
        {
          "output_type": "execute_result",
          "data": {
            "text/plain": [
              "tensor([4517.2969,   82.6000])"
            ]
          },
          "metadata": {
            "tags": []
          },
          "execution_count": 36
        }
      ]
    },
    {
      "cell_type": "markdown",
      "metadata": {
        "id": "vbxbwrJT2Kwr"
      },
      "source": [
        "# **Autograd graph**\n",
        "w와 b가 gradients를 필요로할 때 (loss 계산 중) pytorch는 autograd graph를 만든다\n",
        "\n",
        "loss.backward() = 거꾸로\n",
        "\n",
        "backward calling : accumulate되도록 할 것 -> incorrect!\n",
        "따라서 zero the gradient explicitly를 각 반복마다 해주는 것이 중요. : zero_ 이용"
      ]
    },
    {
      "cell_type": "code",
      "metadata": {
        "id": "8kCYGN5f3Wcf"
      },
      "source": [
        "# In[8]:\n",
        "if params.grad is not None:\n",
        "    params.grad.zero_()"
      ],
      "execution_count": 37,
      "outputs": []
    },
    {
      "cell_type": "code",
      "metadata": {
        "id": "T_8MhT302PeA"
      },
      "source": [
        "# In[9]:\n",
        "def training_loop(n_epochs, learning_rate, params, t_u, t_c):\n",
        "    for epoch in range(1, n_epochs + 1):\n",
        "        if params.grad is not None:   # loss.backward() 부르기 전에 어느때나 행해질 수 있음\n",
        "            params.grad.zero_()\n",
        "        t_p = model(t_u, *params)\n",
        "        loss = loss_fn(t_p, t_c)\n",
        "        loss.backward()\n",
        "        with torch.no_grad():     \n",
        "          params -= learning_rate * params.grad\n",
        "        if epoch % 500 == 0:\n",
        "            print('Epoch %d, Loss %f' % (epoch, float(loss)))\n",
        "    return params"
      ],
      "execution_count": 38,
      "outputs": []
    },
    {
      "cell_type": "code",
      "metadata": {
        "colab": {
          "base_uri": "https://localhost:8080/"
        },
        "id": "ZgdC9Drb5oIU",
        "outputId": "0a53cc28-55c9-4dd4-9abd-7091c60e6978"
      },
      "source": [
        "# In[10]:\n",
        "training_loop(\n",
        "    n_epochs = 5000,\n",
        "    learning_rate = 1e-2,\n",
        "    params = torch.tensor([1.0, 0.0], requires_grad=True),\n",
        "    t_u = t_un,\n",
        "    t_c = t_c)"
      ],
      "execution_count": 39,
      "outputs": [
        {
          "output_type": "stream",
          "text": [
            "Epoch 500, Loss 7.860115\n",
            "Epoch 1000, Loss 3.828538\n",
            "Epoch 1500, Loss 3.092191\n",
            "Epoch 2000, Loss 2.957698\n",
            "Epoch 2500, Loss 2.933134\n",
            "Epoch 3000, Loss 2.928648\n",
            "Epoch 3500, Loss 2.927830\n",
            "Epoch 4000, Loss 2.927679\n",
            "Epoch 4500, Loss 2.927652\n",
            "Epoch 5000, Loss 2.927647\n"
          ],
          "name": "stdout"
        },
        {
          "output_type": "execute_result",
          "data": {
            "text/plain": [
              "tensor([  5.3671, -17.3012], requires_grad=True)"
            ]
          },
          "metadata": {
            "tags": []
          },
          "execution_count": 39
        }
      ]
    },
    {
      "cell_type": "code",
      "metadata": {
        "colab": {
          "base_uri": "https://localhost:8080/"
        },
        "id": "7gVr_a8H6CdK",
        "outputId": "dcb45527-87b5-4630-e8b8-434d2f876ffb"
      },
      "source": [
        "# torch 모듈이 가지는 보조모듈인 optim : 다른 optimization 알고리즘을 행하는 classes를 찾을 수 있음\n",
        "# In[5]:\n",
        "import torch.optim as optim\n",
        "dir(optim)"
      ],
      "execution_count": 40,
      "outputs": [
        {
          "output_type": "execute_result",
          "data": {
            "text/plain": [
              "['ASGD',\n",
              " 'Adadelta',\n",
              " 'Adagrad',\n",
              " 'Adam',\n",
              " 'AdamW',\n",
              " 'Adamax',\n",
              " 'LBFGS',\n",
              " 'Optimizer',\n",
              " 'RMSprop',\n",
              " 'Rprop',\n",
              " 'SGD',\n",
              " 'SparseAdam',\n",
              " '__builtins__',\n",
              " '__cached__',\n",
              " '__doc__',\n",
              " '__file__',\n",
              " '__loader__',\n",
              " '__name__',\n",
              " '__package__',\n",
              " '__path__',\n",
              " '__spec__',\n",
              " '_functional',\n",
              " '_multi_tensor',\n",
              " 'lr_scheduler',\n",
              " 'swa_utils']"
            ]
          },
          "metadata": {
            "tags": []
          },
          "execution_count": 40
        }
      ]
    },
    {
      "cell_type": "markdown",
      "metadata": {
        "id": "utO2GAEo6eU2"
      },
      "source": [
        "optimizer의 two methods : zero_grad ,step.zero_grad 는 construction에 따라 optimizer로 전달된 인수들의 grad 속성을 제로화함\n",
        "\n",
        "여기서 step은 특정 optimizer에 의해 실행된 optimization 전략에 따라 그 인수들의 값을 update함"
      ]
    },
    {
      "cell_type": "markdown",
      "metadata": {
        "id": "Qr51QWGm69WT"
      },
      "source": [
        "***Using a gradient descent optimizer***\n"
      ]
    },
    {
      "cell_type": "code",
      "metadata": {
        "id": "lfonQD9b7ESx"
      },
      "source": [
        "# In[6]:\n",
        "params = torch.tensor([1.0, 0.0], requires_grad=True)\n",
        "learning_rate = 1e-5\n",
        "optimizer = optim.SGD([params], lr=learning_rate)"
      ],
      "execution_count": 41,
      "outputs": []
    },
    {
      "cell_type": "code",
      "metadata": {
        "colab": {
          "base_uri": "https://localhost:8080/"
        },
        "id": "I3gdPAnm7TAk",
        "outputId": "59ec2ef0-5059-43b2-b482-30b235421a78"
      },
      "source": [
        "# In[7]:\n",
        "t_p = model(t_u, *params)\n",
        "loss = loss_fn(t_p, t_c)\n",
        "loss.backward()\n",
        "optimizer.step()\n",
        "params"
      ],
      "execution_count": 42,
      "outputs": [
        {
          "output_type": "execute_result",
          "data": {
            "text/plain": [
              "tensor([ 9.5483e-01, -8.2600e-04], requires_grad=True)"
            ]
          },
          "metadata": {
            "tags": []
          },
          "execution_count": 42
        }
      ]
    },
    {
      "cell_type": "markdown",
      "metadata": {
        "id": "WxKihyU07bu9"
      },
      "source": [
        "gradients를 zero out하지 못했으므로 +zero_grad 추가"
      ]
    },
    {
      "cell_type": "code",
      "metadata": {
        "colab": {
          "base_uri": "https://localhost:8080/"
        },
        "id": "B954Zxtt7mv3",
        "outputId": "805dfc9f-717a-4596-fa7f-45c7be02d49f"
      },
      "source": [
        "# In[8]:\n",
        "params = torch.tensor([1.0, 0.0], requires_grad=True)\n",
        "learning_rate = 1e-2\n",
        "optimizer = optim.SGD([params], lr=learning_rate)\n",
        "t_p = model(t_un, *params)\n",
        "loss = loss_fn(t_p, t_c)\n",
        "optimizer.zero_grad()\n",
        "loss.backward()\n",
        "optimizer.step()\n",
        "params"
      ],
      "execution_count": 43,
      "outputs": [
        {
          "output_type": "execute_result",
          "data": {
            "text/plain": [
              "tensor([1.7761, 0.1064], requires_grad=True)"
            ]
          },
          "metadata": {
            "tags": []
          },
          "execution_count": 43
        }
      ]
    },
    {
      "cell_type": "code",
      "metadata": {
        "id": "FexRKTr47vsa"
      },
      "source": [
        "# In[9]:\n",
        "def training_loop(n_epochs, optimizer, params, t_u, t_c):\n",
        "    for epoch in range(1, n_epochs + 1):\n",
        "        t_p = model(t_u, *params)\n",
        "        loss = loss_fn(t_p, t_c)\n",
        "        optimizer.zero_grad()\n",
        "        loss.backward()\n",
        "        optimizer.step()\n",
        "        if epoch % 500 == 0:\n",
        "            print('Epoch %d, Loss %f' % (epoch, float(loss)))\n",
        "    return params"
      ],
      "execution_count": 46,
      "outputs": []
    },
    {
      "cell_type": "code",
      "metadata": {
        "colab": {
          "base_uri": "https://localhost:8080/"
        },
        "id": "Y0WcWVx48ABs",
        "outputId": "920ac47e-48fc-43b1-b689-6510601e51d8"
      },
      "source": [
        "# In[10]:\n",
        "params = torch.tensor([1.0, 0.0], requires_grad=True)\n",
        "learning_rate = 1e-2\n",
        "optimizer = optim.SGD([params], lr=learning_rate)\n",
        "training_loop(\n",
        "    n_epochs = 5000,\n",
        "    optimizer = optimizer,\n",
        "    params = params,\n",
        "    t_u = t_un,\n",
        "    t_c = t_c)"
      ],
      "execution_count": 47,
      "outputs": [
        {
          "output_type": "stream",
          "text": [
            "Epoch 500, Loss 7.860120\n",
            "Epoch 1000, Loss 3.828538\n",
            "Epoch 1500, Loss 3.092191\n",
            "Epoch 2000, Loss 2.957698\n",
            "Epoch 2500, Loss 2.933134\n",
            "Epoch 3000, Loss 2.928648\n",
            "Epoch 3500, Loss 2.927830\n",
            "Epoch 4000, Loss 2.927679\n",
            "Epoch 4500, Loss 2.927652\n",
            "Epoch 5000, Loss 2.927647\n"
          ],
          "name": "stdout"
        },
        {
          "output_type": "execute_result",
          "data": {
            "text/plain": [
              "tensor([  5.3671, -17.3012], requires_grad=True)"
            ]
          },
          "metadata": {
            "tags": []
          },
          "execution_count": 47
        }
      ]
    },
    {
      "cell_type": "markdown",
      "metadata": {
        "id": "P5TAXtTi8Pye"
      },
      "source": [
        "**Testing other optimizers**"
      ]
    },
    {
      "cell_type": "code",
      "metadata": {
        "colab": {
          "base_uri": "https://localhost:8080/"
        },
        "id": "Lu6KBz_v8Whw",
        "outputId": "757e9365-969a-43ce-bc5d-84a78c0707eb"
      },
      "source": [
        "# In[11]:\n",
        "params = torch.tensor([1.0, 0.0], requires_grad=True)\n",
        "learning_rate = 1e-1\n",
        "optimizer = optim.Adam([params], lr=learning_rate)\n",
        "training_loop(\n",
        "    n_epochs = 2000,\n",
        "    optimizer = optimizer,\n",
        "    params = params,\n",
        "    t_u = t_u,\n",
        "    t_c = t_c)"
      ],
      "execution_count": 48,
      "outputs": [
        {
          "output_type": "stream",
          "text": [
            "Epoch 500, Loss 7.612900\n",
            "Epoch 1000, Loss 3.086700\n",
            "Epoch 1500, Loss 2.928579\n",
            "Epoch 2000, Loss 2.927644\n"
          ],
          "name": "stdout"
        },
        {
          "output_type": "execute_result",
          "data": {
            "text/plain": [
              "tensor([  0.5367, -17.3021], requires_grad=True)"
            ]
          },
          "metadata": {
            "tags": []
          },
          "execution_count": 48
        }
      ]
    },
    {
      "cell_type": "markdown",
      "metadata": {
        "id": "Dm75Abls8-nf"
      },
      "source": [
        "# **Overfitting**\n",
        "1. training loss가 줄지 않는다면 model이 data에 비해 너무 단순할 수 있다 / 혹은 data가 너무 의미없는 정보를 담은 경우\n",
        "2. 만약 training loss나 validation loss가 발산한다면 -> overfitting (충분한 data 가져오기, 모델이 training data를 fitting하는 것이 정기적이어야), 두 가지 해결책(1, penalization terms 2. add noist to the input samples)"
      ]
    },
    {
      "cell_type": "markdown",
      "metadata": {
        "id": "PizknsHZ-uhW"
      },
      "source": [
        "# **splitting a dataset**\n",
        "randperm function : shuffling the elements of a tensor amounts to finding a permutation of its indices"
      ]
    },
    {
      "cell_type": "code",
      "metadata": {
        "colab": {
          "base_uri": "https://localhost:8080/"
        },
        "id": "0KpCdvHD-sAx",
        "outputId": "1493116c-b637-4258-94a5-7c1368900fd1"
      },
      "source": [
        "# In[12]:\n",
        "n_samples = t_u.shape[0]\n",
        "n_val = int(0.2 * n_samples)\n",
        "shuffled_indices = torch.randperm(n_samples)\n",
        "train_indices = shuffled_indices[:-n_val]\n",
        "val_indices = shuffled_indices[-n_val:]\n",
        "train_indices, val_indices"
      ],
      "execution_count": 49,
      "outputs": [
        {
          "output_type": "execute_result",
          "data": {
            "text/plain": [
              "(tensor([ 0,  4,  9,  6,  5,  3,  1,  2, 10]), tensor([8, 7]))"
            ]
          },
          "metadata": {
            "tags": []
          },
          "execution_count": 49
        }
      ]
    },
    {
      "cell_type": "code",
      "metadata": {
        "id": "0DbBUUPO_DjK"
      },
      "source": [
        "# In[13]:\n",
        "train_t_u = t_u[train_indices]\n",
        "train_t_c = t_c[train_indices]\n",
        "val_t_u = t_u[val_indices]\n",
        "val_t_c = t_c[val_indices]\n",
        "train_t_un = 0.1 * train_t_u\n",
        "val_t_un = 0.1 * val_t_u"
      ],
      "execution_count": 50,
      "outputs": []
    },
    {
      "cell_type": "code",
      "metadata": {
        "id": "fkbw7Dgi_HLK"
      },
      "source": [
        "# In[14]:\n",
        "def training_loop(n_epochs, optimizer, params, train_t_u, val_t_u,\n",
        "                  train_t_c, val_t_c):\n",
        "    for epoch in range(1, n_epochs + 1):\n",
        "        train_t_p = model(train_t_u, *params)\n",
        "        train_loss = loss_fn(train_t_p, train_t_c)\n",
        "        val_t_p = model(val_t_u, *params)\n",
        "        val_loss = loss_fn(val_t_p, val_t_c)\n",
        "        optimizer.zero_grad()\n",
        "        train_loss.backward()\n",
        "        optimizer.step()\n",
        "        if epoch <= 3 or epoch % 500 == 0:\n",
        "            print(f\"Epoch {epoch}, Training loss {train_loss.item():.4f},\"\n",
        "                  f\" Validation loss {val_loss.item():.4f}\")\n",
        "    return params"
      ],
      "execution_count": 51,
      "outputs": []
    },
    {
      "cell_type": "code",
      "metadata": {
        "colab": {
          "base_uri": "https://localhost:8080/"
        },
        "id": "gavyWWpB_aht",
        "outputId": "9e09e4b0-3ddc-4038-e387-22bbe506d85f"
      },
      "source": [
        "# In[15]:\n",
        "params = torch.tensor([1.0, 0.0], requires_grad=True)\n",
        "learning_rate = 1e-2\n",
        "optimizer = optim.SGD([params], lr=learning_rate)\n",
        "training_loop(\n",
        "    n_epochs = 3000,\n",
        "    optimizer = optimizer,\n",
        "    params = params,\n",
        "    train_t_u = train_t_un,\n",
        "    val_t_u = val_t_un,\n",
        "    train_t_c = train_t_c,\n",
        "    val_t_c = val_t_c)\n",
        "\n",
        "# validation loss > training loss"
      ],
      "execution_count": 52,
      "outputs": [
        {
          "output_type": "stream",
          "text": [
            "Epoch 1, Training loss 93.8300, Validation loss 19.7690\n",
            "Epoch 2, Training loss 30.6638, Validation loss 42.1962\n",
            "Epoch 3, Training loss 23.9503, Validation loss 55.4666\n",
            "Epoch 500, Training loss 8.8039, Validation loss 19.4550\n",
            "Epoch 1000, Training loss 4.3648, Validation loss 7.7793\n",
            "Epoch 1500, Training loss 3.0065, Validation loss 5.1948\n",
            "Epoch 2000, Training loss 2.5909, Validation loss 4.9504\n",
            "Epoch 2500, Training loss 2.4637, Validation loss 5.1780\n",
            "Epoch 3000, Training loss 2.4248, Validation loss 5.4148\n"
          ],
          "name": "stdout"
        },
        {
          "output_type": "execute_result",
          "data": {
            "text/plain": [
              "tensor([  5.4727, -17.7369], requires_grad=True)"
            ]
          },
          "metadata": {
            "tags": []
          },
          "execution_count": 52
        }
      ]
    },
    {
      "cell_type": "code",
      "metadata": {
        "id": "DrN13jZO_1I8"
      },
      "source": [
        "# In[16]:\n",
        "def training_loop(n_epochs, optimizer, params, train_t_u, val_t_u,\n",
        "                  train_t_c, val_t_c):\n",
        "    for epoch in range(1, n_epochs + 1):\n",
        "        train_t_p = model(train_t_u, *params)\n",
        "        train_loss = loss_fn(train_t_p, train_t_c)\n",
        "        with torch.no_grad():\n",
        "            val_t_p = model(val_t_u, *params)\n",
        "            val_loss = loss_fn(val_t_p, val_t_c)\n",
        "            assert val_loss.requires_grad == False\n",
        "        optimizer.zero_grad()\n",
        "        train_loss.backward()\n",
        "        optimizer.step()"
      ],
      "execution_count": 53,
      "outputs": []
    },
    {
      "cell_type": "code",
      "metadata": {
        "id": "TLNAl2D4ADwq"
      },
      "source": [
        "# In[17]:\n",
        "def calc_forward(t_u, t_c, is_train):\n",
        "    with torch.set_grad_enabled(is_train):\n",
        "        t_p = model(t_u, *params)\n",
        "        loss = loss_fn(t_p, t_c)\n",
        "    return loss"
      ],
      "execution_count": 54,
      "outputs": []
    }
  ]
}