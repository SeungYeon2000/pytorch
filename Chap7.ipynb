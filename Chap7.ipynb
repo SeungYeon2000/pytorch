{
  "nbformat": 4,
  "nbformat_minor": 0,
  "metadata": {
    "colab": {
      "name": "Chap7.ipynb",
      "provenance": [],
      "authorship_tag": "ABX9TyPZ8l2WaLly7X5cXaNi+v1x",
      "include_colab_link": true
    },
    "kernelspec": {
      "name": "python3",
      "display_name": "Python 3"
    },
    "language_info": {
      "name": "python"
    },
    "widgets": {
      "application/vnd.jupyter.widget-state+json": {
        "d04801de2abb4167966fbd86b97fc59b": {
          "model_module": "@jupyter-widgets/controls",
          "model_name": "HBoxModel",
          "state": {
            "_view_name": "HBoxView",
            "_dom_classes": [],
            "_model_name": "HBoxModel",
            "_view_module": "@jupyter-widgets/controls",
            "_model_module_version": "1.5.0",
            "_view_count": null,
            "_view_module_version": "1.5.0",
            "box_style": "",
            "layout": "IPY_MODEL_6b3dd5967fc0439bbc7b20bf7ddb8443",
            "_model_module": "@jupyter-widgets/controls",
            "children": [
              "IPY_MODEL_9065612f6ce54be7994b8d574862e888",
              "IPY_MODEL_7f68c75378434e9290a028580c9d0839"
            ]
          }
        },
        "6b3dd5967fc0439bbc7b20bf7ddb8443": {
          "model_module": "@jupyter-widgets/base",
          "model_name": "LayoutModel",
          "state": {
            "_view_name": "LayoutView",
            "grid_template_rows": null,
            "right": null,
            "justify_content": null,
            "_view_module": "@jupyter-widgets/base",
            "overflow": null,
            "_model_module_version": "1.2.0",
            "_view_count": null,
            "flex_flow": null,
            "width": null,
            "min_width": null,
            "border": null,
            "align_items": null,
            "bottom": null,
            "_model_module": "@jupyter-widgets/base",
            "top": null,
            "grid_column": null,
            "overflow_y": null,
            "overflow_x": null,
            "grid_auto_flow": null,
            "grid_area": null,
            "grid_template_columns": null,
            "flex": null,
            "_model_name": "LayoutModel",
            "justify_items": null,
            "grid_row": null,
            "max_height": null,
            "align_content": null,
            "visibility": null,
            "align_self": null,
            "height": null,
            "min_height": null,
            "padding": null,
            "grid_auto_rows": null,
            "grid_gap": null,
            "max_width": null,
            "order": null,
            "_view_module_version": "1.2.0",
            "grid_template_areas": null,
            "object_position": null,
            "object_fit": null,
            "grid_auto_columns": null,
            "margin": null,
            "display": null,
            "left": null
          }
        },
        "9065612f6ce54be7994b8d574862e888": {
          "model_module": "@jupyter-widgets/controls",
          "model_name": "FloatProgressModel",
          "state": {
            "_view_name": "ProgressView",
            "style": "IPY_MODEL_b7cc2be942ea4a14aed762f3404f1394",
            "_dom_classes": [],
            "description": "",
            "_model_name": "FloatProgressModel",
            "bar_style": "success",
            "max": 170498071,
            "_view_module": "@jupyter-widgets/controls",
            "_model_module_version": "1.5.0",
            "value": 170498071,
            "_view_count": null,
            "_view_module_version": "1.5.0",
            "orientation": "horizontal",
            "min": 0,
            "description_tooltip": null,
            "_model_module": "@jupyter-widgets/controls",
            "layout": "IPY_MODEL_0187b6f282dd41d7bd6393a2294c99b4"
          }
        },
        "7f68c75378434e9290a028580c9d0839": {
          "model_module": "@jupyter-widgets/controls",
          "model_name": "HTMLModel",
          "state": {
            "_view_name": "HTMLView",
            "style": "IPY_MODEL_fb43982d68484eb4987d701b7230602a",
            "_dom_classes": [],
            "description": "",
            "_model_name": "HTMLModel",
            "placeholder": "​",
            "_view_module": "@jupyter-widgets/controls",
            "_model_module_version": "1.5.0",
            "value": " 170499072/? [00:09&lt;00:00, 17572034.90it/s]",
            "_view_count": null,
            "_view_module_version": "1.5.0",
            "description_tooltip": null,
            "_model_module": "@jupyter-widgets/controls",
            "layout": "IPY_MODEL_0aaf80925a5a429aa96edb6adea89b55"
          }
        },
        "b7cc2be942ea4a14aed762f3404f1394": {
          "model_module": "@jupyter-widgets/controls",
          "model_name": "ProgressStyleModel",
          "state": {
            "_view_name": "StyleView",
            "_model_name": "ProgressStyleModel",
            "description_width": "initial",
            "_view_module": "@jupyter-widgets/base",
            "_model_module_version": "1.5.0",
            "_view_count": null,
            "_view_module_version": "1.2.0",
            "bar_color": null,
            "_model_module": "@jupyter-widgets/controls"
          }
        },
        "0187b6f282dd41d7bd6393a2294c99b4": {
          "model_module": "@jupyter-widgets/base",
          "model_name": "LayoutModel",
          "state": {
            "_view_name": "LayoutView",
            "grid_template_rows": null,
            "right": null,
            "justify_content": null,
            "_view_module": "@jupyter-widgets/base",
            "overflow": null,
            "_model_module_version": "1.2.0",
            "_view_count": null,
            "flex_flow": null,
            "width": null,
            "min_width": null,
            "border": null,
            "align_items": null,
            "bottom": null,
            "_model_module": "@jupyter-widgets/base",
            "top": null,
            "grid_column": null,
            "overflow_y": null,
            "overflow_x": null,
            "grid_auto_flow": null,
            "grid_area": null,
            "grid_template_columns": null,
            "flex": null,
            "_model_name": "LayoutModel",
            "justify_items": null,
            "grid_row": null,
            "max_height": null,
            "align_content": null,
            "visibility": null,
            "align_self": null,
            "height": null,
            "min_height": null,
            "padding": null,
            "grid_auto_rows": null,
            "grid_gap": null,
            "max_width": null,
            "order": null,
            "_view_module_version": "1.2.0",
            "grid_template_areas": null,
            "object_position": null,
            "object_fit": null,
            "grid_auto_columns": null,
            "margin": null,
            "display": null,
            "left": null
          }
        },
        "fb43982d68484eb4987d701b7230602a": {
          "model_module": "@jupyter-widgets/controls",
          "model_name": "DescriptionStyleModel",
          "state": {
            "_view_name": "StyleView",
            "_model_name": "DescriptionStyleModel",
            "description_width": "",
            "_view_module": "@jupyter-widgets/base",
            "_model_module_version": "1.5.0",
            "_view_count": null,
            "_view_module_version": "1.2.0",
            "_model_module": "@jupyter-widgets/controls"
          }
        },
        "0aaf80925a5a429aa96edb6adea89b55": {
          "model_module": "@jupyter-widgets/base",
          "model_name": "LayoutModel",
          "state": {
            "_view_name": "LayoutView",
            "grid_template_rows": null,
            "right": null,
            "justify_content": null,
            "_view_module": "@jupyter-widgets/base",
            "overflow": null,
            "_model_module_version": "1.2.0",
            "_view_count": null,
            "flex_flow": null,
            "width": null,
            "min_width": null,
            "border": null,
            "align_items": null,
            "bottom": null,
            "_model_module": "@jupyter-widgets/base",
            "top": null,
            "grid_column": null,
            "overflow_y": null,
            "overflow_x": null,
            "grid_auto_flow": null,
            "grid_area": null,
            "grid_template_columns": null,
            "flex": null,
            "_model_name": "LayoutModel",
            "justify_items": null,
            "grid_row": null,
            "max_height": null,
            "align_content": null,
            "visibility": null,
            "align_self": null,
            "height": null,
            "min_height": null,
            "padding": null,
            "grid_auto_rows": null,
            "grid_gap": null,
            "max_width": null,
            "order": null,
            "_view_module_version": "1.2.0",
            "grid_template_areas": null,
            "object_position": null,
            "object_fit": null,
            "grid_auto_columns": null,
            "margin": null,
            "display": null,
            "left": null
          }
        }
      }
    }
  },
  "cells": [
    {
      "cell_type": "markdown",
      "metadata": {
        "id": "view-in-github",
        "colab_type": "text"
      },
      "source": [
        "<a href=\"https://colab.research.google.com/github/SeungYeon2000/pytorch/blob/main/Chap7.ipynb\" target=\"_parent\"><img src=\"https://colab.research.google.com/assets/colab-badge.svg\" alt=\"Open In Colab\"/></a>"
      ]
    },
    {
      "cell_type": "markdown",
      "metadata": {
        "id": "xnUDDHTFTaxp"
      },
      "source": [
        "#**7.1 A dataset of tiny images*\n",
        "image recognition할 때 사용하는 dataset : MNEST < CIFAR-10(integer로 label된 60,000개의 작은 32 X 32 color images), CIFAR-100"
      ]
    },
    {
      "cell_type": "code",
      "metadata": {
        "colab": {
          "base_uri": "https://localhost:8080/",
          "height": 119,
          "referenced_widgets": [
            "d04801de2abb4167966fbd86b97fc59b",
            "6b3dd5967fc0439bbc7b20bf7ddb8443",
            "9065612f6ce54be7994b8d574862e888",
            "7f68c75378434e9290a028580c9d0839",
            "b7cc2be942ea4a14aed762f3404f1394",
            "0187b6f282dd41d7bd6393a2294c99b4",
            "fb43982d68484eb4987d701b7230602a",
            "0aaf80925a5a429aa96edb6adea89b55"
          ]
        },
        "id": "g8ibmYdgPPR2",
        "outputId": "b65a8c6c-8f95-40f0-e6d5-6be5e06a700e"
      },
      "source": [
        "# In[2]:\n",
        "from torchvision import datasets\n",
        "data_path = '../data-unversioned/p1ch7/'          #location\n",
        "cifar10 = datasets.CIFAR10(data_path, train=True, download=True)    #training set/validation set 중 어떤 것에 관심?,  torchvision이 data를 download함\n",
        "cifar10_val = datasets.CIFAR10(data_path, train=False, download=True) # location 지정에서 data가 없다면 pytorch에 다운받아도 된다는 코드, train=False이면, validation data에 대한 dataset을 가짐, 필수적으로 downloading을 반복하면서"
      ],
      "execution_count": 1,
      "outputs": [
        {
          "output_type": "stream",
          "text": [
            "Downloading https://www.cs.toronto.edu/~kriz/cifar-10-python.tar.gz to ../data-unversioned/p1ch7/cifar-10-python.tar.gz\n"
          ],
          "name": "stdout"
        },
        {
          "output_type": "display_data",
          "data": {
            "application/vnd.jupyter.widget-view+json": {
              "model_id": "d04801de2abb4167966fbd86b97fc59b",
              "version_minor": 0,
              "version_major": 2
            },
            "text/plain": [
              "HBox(children=(FloatProgress(value=0.0, max=170498071.0), HTML(value='')))"
            ]
          },
          "metadata": {
            "tags": []
          }
        },
        {
          "output_type": "stream",
          "text": [
            "\n",
            "Extracting ../data-unversioned/p1ch7/cifar-10-python.tar.gz to ../data-unversioned/p1ch7/\n",
            "Files already downloaded and verified\n"
          ],
          "name": "stdout"
        }
      ]
    },
    {
      "cell_type": "markdown",
      "metadata": {
        "id": "4CrJ4OZ7XGHI"
      },
      "source": [
        "datasets submodules가 MNEST와 같은 computer vision dataset에 접근 허용시킴\n",
        "\n",
        "dataset은 torch.utils.data.Dataset의 subclass로 반환됨"
      ]
    },
    {
      "cell_type": "code",
      "metadata": {
        "colab": {
          "base_uri": "https://localhost:8080/"
        },
        "id": "2B7ZkSonXWgY",
        "outputId": "57d70bb9-6b53-491e-b10e-9037140785a9"
      },
      "source": [
        "# In[4]:\n",
        "type(cifar10).__mro__"
      ],
      "execution_count": 2,
      "outputs": [
        {
          "output_type": "execute_result",
          "data": {
            "text/plain": [
              "(torchvision.datasets.cifar.CIFAR10,\n",
              " torchvision.datasets.vision.VisionDataset,\n",
              " torch.utils.data.dataset.Dataset,\n",
              " typing.Generic,\n",
              " object)"
            ]
          },
          "metadata": {
            "tags": []
          },
          "execution_count": 2
        }
      ]
    },
    {
      "cell_type": "markdown",
      "metadata": {
        "id": "5RcK2bD2XaRh"
      },
      "source": [
        "# **7.1.2 The Dataset class**\n",
        "pytorch dataset object : 꼭 data를 가진다기보다는 __len__(dataset의 item 수)과 ___getitem___ (sample과 corresponding label= integer index로 구성된 item을 반환)을 통해 access를 제공한다"
      ]
    },
    {
      "cell_type": "code",
      "metadata": {
        "colab": {
          "base_uri": "https://localhost:8080/"
        },
        "id": "h-GCsM3DZyB7",
        "outputId": "5fc24e94-fcc2-4dca-9685-70fbaf4df3d2"
      },
      "source": [
        "# In[5]:\n",
        "len(cifar10)"
      ],
      "execution_count": 3,
      "outputs": [
        {
          "output_type": "execute_result",
          "data": {
            "text/plain": [
              "50000"
            ]
          },
          "metadata": {
            "tags": []
          },
          "execution_count": 3
        }
      ]
    },
    {
      "cell_type": "code",
      "metadata": {
        "colab": {
          "base_uri": "https://localhost:8080/",
          "height": 204
        },
        "id": "F9qf7xAdaRtU",
        "outputId": "0c12d715-ea7f-4c2a-f558-0b29b40cdf20"
      },
      "source": [
        "# In[6]:\n",
        "img, label = cifar10[99]\n",
        "img, label, class_names[label]"
      ],
      "execution_count": 4,
      "outputs": [
        {
          "output_type": "error",
          "ename": "NameError",
          "evalue": "ignored",
          "traceback": [
            "\u001b[0;31m---------------------------------------------------------------------------\u001b[0m",
            "\u001b[0;31mNameError\u001b[0m                                 Traceback (most recent call last)",
            "\u001b[0;32m<ipython-input-4-aa89293df29d>\u001b[0m in \u001b[0;36m<module>\u001b[0;34m()\u001b[0m\n\u001b[1;32m      1\u001b[0m \u001b[0;31m# In[6]:\u001b[0m\u001b[0;34m\u001b[0m\u001b[0;34m\u001b[0m\u001b[0;34m\u001b[0m\u001b[0m\n\u001b[1;32m      2\u001b[0m \u001b[0mimg\u001b[0m\u001b[0;34m,\u001b[0m \u001b[0mlabel\u001b[0m \u001b[0;34m=\u001b[0m \u001b[0mcifar10\u001b[0m\u001b[0;34m[\u001b[0m\u001b[0;36m99\u001b[0m\u001b[0;34m]\u001b[0m\u001b[0;34m\u001b[0m\u001b[0;34m\u001b[0m\u001b[0m\n\u001b[0;32m----> 3\u001b[0;31m \u001b[0mimg\u001b[0m\u001b[0;34m,\u001b[0m \u001b[0mlabel\u001b[0m\u001b[0;34m,\u001b[0m \u001b[0mclass_names\u001b[0m\u001b[0;34m[\u001b[0m\u001b[0mlabel\u001b[0m\u001b[0;34m]\u001b[0m\u001b[0;34m\u001b[0m\u001b[0;34m\u001b[0m\u001b[0m\n\u001b[0m",
            "\u001b[0;31mNameError\u001b[0m: name 'class_names' is not defined"
          ]
        }
      ]
    },
    {
      "cell_type": "markdown",
      "metadata": {
        "id": "fkpMcO2vadNY"
      },
      "source": [
        "# **7.1.3 Dataset transforms**\n",
        "PIL image -> pytorch tensor 할 때 필요한 모듈 : torchvision.transforms(load 되고나서만 실행되고 & getitem 전에만 실행됨)\n",
        "\n",
        "ToTensor : NumPy arrays와 PIL images를 tensor로 바꾼다, 또한 output tensor를 C × H × W (channel, height, width) 형태로 배치시킴 "
      ]
    },
    {
      "cell_type": "markdown",
      "metadata": {
        "id": "7miITNhrbrD0"
      },
      "source": [
        "# **7.1.4 Normalizing data**\n",
        "transforms.Compose : normalization & data augmentation 담당 (더 빠른 학습)\n",
        "\n",
        "+ transforms.Compose tensor는 v_n[c] = (v[c] - mean[c]) /\n",
        "stdev[c]의 역할 수행"
      ]
    },
    {
      "cell_type": "markdown",
      "metadata": {
        "id": "WHyubkqhra0w"
      },
      "source": [
        "# **7.2 Distinguishing birds from airplanes**\n",
        "\n"
      ]
    },
    {
      "cell_type": "markdown",
      "metadata": {
        "id": "ZNXgryMYsqyK"
      },
      "source": [
        "# **7.2.1 Building the dataset**\n",
        "\n",
        "Dataset의 subset으로 오직 airplane과 bird만 있도록 설정. indexing 과 len만으로도 충분"
      ]
    },
    {
      "cell_type": "markdown",
      "metadata": {
        "id": "6tkEDAnDtAri"
      },
      "source": [
        "# **7.2.2 A fully connected model**\n",
        "32 * 32 * 3 = 3072개의 input features가 sample마다 존재 (nn.Linear model이 됨)\n",
        "\n",
        "hidden features : 임의적으로"
      ]
    },
    {
      "cell_type": "markdown",
      "metadata": {
        "id": "w8VQkZt-t_jm"
      },
      "source": [
        "# **7.2.3 Output of a classifier**\n",
        "1. network output을 single scalar value로 만들기\n",
        "\n",
        "2. lables를 float로 cast하기(0:airplane, 1:birds)\n",
        "\n",
        "3. MSELoss의 target으로서 위 내용 이용하기 (batch에서 squared differences의 평균)\n",
        "\n",
        "이상적인 결과 : airplane - torch.tensor([1.0, 0.0]) / birds : torch.tensor([0.0, 1.0])\n",
        "\n",
        "+ 결과의 각 element는 0 ~ 1 사이여야 함 , 그 중 한 element는 반드시 1의 값이 나와야"
      ]
    },
    {
      "cell_type": "markdown",
      "metadata": {
        "id": "R6uTvsOyvYu1"
      },
      "source": [
        "# **7.2.4 Representing the output as probabilities**\n",
        "Softmax : vector값을 취해서 같은 dimension의 또다른 벡터를 만드는 함수 monotune함수(적은 scale -> 적은 값의 결과)이지만 scale 불변은 아님 (elements 간의 ratio가 계산마다 달라지기 때문)\n",
        "\n",
        "nn module은 softmax를 module로써 기능하게 함"
      ]
    }
  ]
}