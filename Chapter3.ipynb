{
  "nbformat": 4,
  "nbformat_minor": 0,
  "metadata": {
    "colab": {
      "name": "Chapter3.ipynb",
      "provenance": [],
      "collapsed_sections": [],
      "authorship_tag": "ABX9TyPjm68zHINhiL/rDwekIrtb",
      "include_colab_link": true
    },
    "kernelspec": {
      "name": "python3",
      "display_name": "Python 3"
    },
    "language_info": {
      "name": "python"
    }
  },
  "cells": [
    {
      "cell_type": "markdown",
      "metadata": {
        "id": "view-in-github",
        "colab_type": "text"
      },
      "source": [
        "<a href=\"https://colab.research.google.com/github/SeungYeon2000/pytorch/blob/main/Chapter3.ipynb\" target=\"_parent\"><img src=\"https://colab.research.google.com/assets/colab-badge.svg\" alt=\"Open In Colab\"/></a>"
      ]
    },
    {
      "cell_type": "code",
      "metadata": {
        "id": "UgK1AEwKgeT-"
      },
      "source": [
        ""
      ],
      "execution_count": null,
      "outputs": []
    },
    {
      "cell_type": "markdown",
      "metadata": {
        "id": "FaGjpLa8gg78"
      },
      "source": [
        "# Chapter3 - Contents\n",
        "\n",
        "\n",
        "1.   Understanding Tensors(basic data structure)\n",
        "2.   Indexing and operating on tensors\n",
        "3.   Interoperating with NumPy multidimensional arrays\n",
        "4.   Moving computations to the GPU for speed\n",
        "\n"
      ]
    },
    {
      "cell_type": "markdown",
      "metadata": {
        "id": "wWmq75oIg4vN"
      },
      "source": [
        "# 3.1 The world as floating-point numbers\n",
        "\n",
        "how Pytorch handles and stores data?\n",
        "\n",
        "fundamental data structure : the tensor\n",
        "\n",
        "tensor : 임의 차원의 수로 벡터와 행렬의 일반화를 가리킴\n",
        "\n",
        "dimensionality of a tensor = tensor내 scalar값을 지칭하는 데 사용된 index의 개수(n차원의 data -> n개의 indices)\n",
        "\n",
        "NumPy : 가장 인기 있는 multidimensional array library"
      ]
    },
    {
      "cell_type": "markdown",
      "metadata": {
        "id": "xJcWpwBeildA"
      },
      "source": [
        "# Tensors : Multidimensional arrays\n",
        "A tensor = An array\n",
        "숫자들 모음을 저장하는 data 구조 (index를 사용하는 접근가능한 것, 다중 인덱스로 인덱싱 될 수 있는 것)"
      ]
    },
    {
      "cell_type": "code",
      "metadata": {
        "id": "YFA9oQutikC4"
      },
      "source": [
        "#In[1] :\n",
        "a = [1.0, 2.0, 1.0]"
      ],
      "execution_count": 1,
      "outputs": []
    },
    {
      "cell_type": "code",
      "metadata": {
        "colab": {
          "base_uri": "https://localhost:8080/"
        },
        "id": "VDoRtQVsjBWV",
        "outputId": "c42b4f69-61b0-4fcf-d6b6-cb97b13c8802"
      },
      "source": [
        "#In[2] :\n",
        "a[0]"
      ],
      "execution_count": 2,
      "outputs": [
        {
          "output_type": "execute_result",
          "data": {
            "text/plain": [
              "1.0"
            ]
          },
          "metadata": {
            "tags": []
          },
          "execution_count": 2
        }
      ]
    },
    {
      "cell_type": "code",
      "metadata": {
        "colab": {
          "base_uri": "https://localhost:8080/"
        },
        "id": "XpupU6XjjE16",
        "outputId": "bc17430e-f7c1-4f4a-b785-482f529475e0"
      },
      "source": [
        "#In[3]:\n",
        "a[2]=3.0\n",
        "a\n",
        "# index 번호에 직접 대입해줘서 변경 가능"
      ],
      "execution_count": 3,
      "outputs": [
        {
          "output_type": "execute_result",
          "data": {
            "text/plain": [
              "[1.0, 2.0, 3.0]"
            ]
          },
          "metadata": {
            "tags": []
          },
          "execution_count": 3
        }
      ]
    },
    {
      "cell_type": "code",
      "metadata": {
        "colab": {
          "base_uri": "https://localhost:8080/"
        },
        "id": "UKNFabBejPLg",
        "outputId": "05e78c5e-5b90-493b-da9e-745c71d4efce"
      },
      "source": [
        "#In[4]:\n",
        "import torch   #import the torch module\n",
        "a=torch.ones(3)  #creates 1D 1로 이루어진 size3 tensor\n",
        "a"
      ],
      "execution_count": 5,
      "outputs": [
        {
          "output_type": "execute_result",
          "data": {
            "text/plain": [
              "tensor([1., 1., 1.])"
            ]
          },
          "metadata": {
            "tags": []
          },
          "execution_count": 5
        }
      ]
    },
    {
      "cell_type": "code",
      "metadata": {
        "colab": {
          "base_uri": "https://localhost:8080/"
        },
        "id": "eZh8743zjaXg",
        "outputId": "b681d772-72cb-488e-9d1f-8e8d1e8a9edf"
      },
      "source": [
        "#In[5]:\n",
        "a[1]"
      ],
      "execution_count": 6,
      "outputs": [
        {
          "output_type": "execute_result",
          "data": {
            "text/plain": [
              "tensor(1.)"
            ]
          },
          "metadata": {
            "tags": []
          },
          "execution_count": 6
        }
      ]
    },
    {
      "cell_type": "code",
      "metadata": {
        "colab": {
          "base_uri": "https://localhost:8080/"
        },
        "id": "4pyXieXsjx_q",
        "outputId": "8a4d9f65-ae51-498e-fc98-12f87c79ea3a"
      },
      "source": [
        "#In[6]:\n",
        "float(a[1])"
      ],
      "execution_count": 7,
      "outputs": [
        {
          "output_type": "execute_result",
          "data": {
            "text/plain": [
              "1.0"
            ]
          },
          "metadata": {
            "tags": []
          },
          "execution_count": 7
        }
      ]
    },
    {
      "cell_type": "code",
      "metadata": {
        "colab": {
          "base_uri": "https://localhost:8080/"
        },
        "id": "L0DL173Oj2X9",
        "outputId": "e18454b4-3ddc-4290-f5a7-988f95efa364"
      },
      "source": [
        "#In[7]:\n",
        "a[2]=2.0\n",
        "a"
      ],
      "execution_count": 8,
      "outputs": [
        {
          "output_type": "execute_result",
          "data": {
            "text/plain": [
              "tensor([1., 1., 2.])"
            ]
          },
          "metadata": {
            "tags": []
          },
          "execution_count": 8
        }
      ]
    },
    {
      "cell_type": "code",
      "metadata": {
        "colab": {
          "base_uri": "https://localhost:8080/"
        },
        "id": "6_gIOTENj8HR",
        "outputId": "b919e07e-b29e-489d-a628-341561878a15"
      },
      "source": [
        "#in[8]:  \n",
        "points = torch.zeros(6)   #.zeros를 이용하는 것은 적절한 size의 array를 얻기 위함임.\n",
        "points[0] = 4.0    # 우리가 실제로 원하는 값으로 zero를 대체함.\n",
        "points[1] = 1.0\n",
        "points[2] = 5.0\n",
        "points[3] = 3.0\n",
        "points[4] = 2.0\n",
        "points[5] = 1.0\n",
        "# python list를 사용하는 대신 torch/array를 사용하는 방법\n",
        "points"
      ],
      "execution_count": 10,
      "outputs": [
        {
          "output_type": "execute_result",
          "data": {
            "text/plain": [
              "tensor([4., 1., 5., 3., 2., 1.])"
            ]
          },
          "metadata": {
            "tags": []
          },
          "execution_count": 10
        }
      ]
    },
    {
      "cell_type": "code",
      "metadata": {
        "colab": {
          "base_uri": "https://localhost:8080/"
        },
        "id": "l7G23uBulJc6",
        "outputId": "24eaedef-3cec-4277-e434-0024bfca6c62"
      },
      "source": [
        "#In[9]:\n",
        "points=torch.tensor([4.0,1.0,5.0,3.0,2.0,1.0])\n",
        "points"
      ],
      "execution_count": 11,
      "outputs": [
        {
          "output_type": "execute_result",
          "data": {
            "text/plain": [
              "tensor([4., 1., 5., 3., 2., 1.])"
            ]
          },
          "metadata": {
            "tags": []
          },
          "execution_count": 11
        }
      ]
    },
    {
      "cell_type": "code",
      "metadata": {
        "colab": {
          "base_uri": "https://localhost:8080/"
        },
        "id": "EYEurjPklRS7",
        "outputId": "7b114d4a-f300-42e3-f331-1f1297823885"
      },
      "source": [
        "#In[10]:\n",
        "float(points[0]), float(points[1])"
      ],
      "execution_count": 12,
      "outputs": [
        {
          "output_type": "execute_result",
          "data": {
            "text/plain": [
              "(4.0, 1.0)"
            ]
          },
          "metadata": {
            "tags": []
          },
          "execution_count": 12
        }
      ]
    },
    {
      "cell_type": "code",
      "metadata": {
        "colab": {
          "base_uri": "https://localhost:8080/"
        },
        "id": "SAz_1FavlYHN",
        "outputId": "8fd4dd0b-7adc-4b0f-cd19-4feb8b471d7b"
      },
      "source": [
        "#In[11]:\n",
        "points = torch.tensor([[4.0,1.0],[5.0,3.0],[2.0,1.0]])\n",
        "points"
      ],
      "execution_count": 14,
      "outputs": [
        {
          "output_type": "execute_result",
          "data": {
            "text/plain": [
              "tensor([[4., 1.],\n",
              "        [5., 3.],\n",
              "        [2., 1.]])"
            ]
          },
          "metadata": {
            "tags": []
          },
          "execution_count": 14
        }
      ]
    },
    {
      "cell_type": "code",
      "metadata": {
        "colab": {
          "base_uri": "https://localhost:8080/"
        },
        "id": "xnQRTyK0yMB-",
        "outputId": "e45da29a-330b-4149-91cf-179dae14747b"
      },
      "source": [
        "#In[12]:\n",
        "points.shape"
      ],
      "execution_count": 15,
      "outputs": [
        {
          "output_type": "execute_result",
          "data": {
            "text/plain": [
              "torch.Size([3, 2])"
            ]
          },
          "metadata": {
            "tags": []
          },
          "execution_count": 15
        }
      ]
    },
    {
      "cell_type": "code",
      "metadata": {
        "colab": {
          "base_uri": "https://localhost:8080/"
        },
        "id": "QkBhh0Y3yQ-m",
        "outputId": "8a5df333-39a8-48fc-d98e-2890a46b9528"
      },
      "source": [
        "#In[13]:\n",
        "points=torch.zeros(3,2)\n",
        "points"
      ],
      "execution_count": 16,
      "outputs": [
        {
          "output_type": "execute_result",
          "data": {
            "text/plain": [
              "tensor([[0., 0.],\n",
              "        [0., 0.],\n",
              "        [0., 0.]])"
            ]
          },
          "metadata": {
            "tags": []
          },
          "execution_count": 16
        }
      ]
    },
    {
      "cell_type": "code",
      "metadata": {
        "colab": {
          "base_uri": "https://localhost:8080/"
        },
        "id": "5FFK6Ft_yV-L",
        "outputId": "231e6428-88d0-4b5f-b7df-e8e1dd7bc5e1"
      },
      "source": [
        "#In[14]:\n",
        "points=torch.tensor([[4.0,1.0],[5.0,3.0],[2.0,1.0]])\n",
        "points"
      ],
      "execution_count": 18,
      "outputs": [
        {
          "output_type": "execute_result",
          "data": {
            "text/plain": [
              "tensor([[4., 1.],\n",
              "        [5., 3.],\n",
              "        [2., 1.]])"
            ]
          },
          "metadata": {
            "tags": []
          },
          "execution_count": 18
        }
      ]
    },
    {
      "cell_type": "code",
      "metadata": {
        "colab": {
          "base_uri": "https://localhost:8080/"
        },
        "id": "QYDBAMG1zV9_",
        "outputId": "1b89cc85-5209-4306-ed53-1ce6465b58ad"
      },
      "source": [
        "#In[15]:\n",
        "points[0,1]"
      ],
      "execution_count": 19,
      "outputs": [
        {
          "output_type": "execute_result",
          "data": {
            "text/plain": [
              "tensor(1.)"
            ]
          },
          "metadata": {
            "tags": []
          },
          "execution_count": 19
        }
      ]
    },
    {
      "cell_type": "code",
      "metadata": {
        "colab": {
          "base_uri": "https://localhost:8080/"
        },
        "id": "mlM84uY2zclq",
        "outputId": "ee319ceb-fff4-4cbd-8dcb-4d5846f62379"
      },
      "source": [
        "#In[16]:\n",
        "points[0]"
      ],
      "execution_count": 20,
      "outputs": [
        {
          "output_type": "execute_result",
          "data": {
            "text/plain": [
              "tensor([4., 1.])"
            ]
          },
          "metadata": {
            "tags": []
          },
          "execution_count": 20
        }
      ]
    },
    {
      "cell_type": "markdown",
      "metadata": {
        "id": "m3yjFQCs2LYt"
      },
      "source": [
        "# 3.3 Indexing Tensors\n",
        "\n",
        "obtaining a tensor containing all points but the first -> easy :)\n"
      ]
    },
    {
      "cell_type": "code",
      "metadata": {
        "colab": {
          "base_uri": "https://localhost:8080/"
        },
        "id": "Mg2FPLuDziUP",
        "outputId": "140c7faa-2ccc-42bc-a75a-dc91680130de"
      },
      "source": [
        "#In[53]:\n",
        "some_list = list(range(6)) \n",
        "some_list[:]\n",
        "some_list[1:4]  #1부터3\n",
        "some_list[1:]   #1부터마지막전\n",
        "some_list[:4]   #처음부터4전\n",
        "some_list[:-1]  #처음부터마지막에서하나전\n",
        "some_list[1:4:2]  #1,3"
      ],
      "execution_count": 21,
      "outputs": [
        {
          "output_type": "execute_result",
          "data": {
            "text/plain": [
              "[1, 3]"
            ]
          },
          "metadata": {
            "tags": []
          },
          "execution_count": 21
        }
      ]
    },
    {
      "cell_type": "code",
      "metadata": {
        "colab": {
          "base_uri": "https://localhost:8080/"
        },
        "id": "nLk1jmDe17B-",
        "outputId": "382e80c7-1c05-4c5b-999b-01dd4851dc4a"
      },
      "source": [
        "#In[54]:\n",
        "points[1:]\n",
        "points[1:, :]\n",
        "points[1:, 0]\n",
        "points[None]"
      ],
      "execution_count": 22,
      "outputs": [
        {
          "output_type": "execute_result",
          "data": {
            "text/plain": [
              "tensor([[[4., 1.],\n",
              "         [5., 3.],\n",
              "         [2., 1.]]])"
            ]
          },
          "metadata": {
            "tags": []
          },
          "execution_count": 22
        }
      ]
    },
    {
      "cell_type": "markdown",
      "metadata": {
        "id": "3XXcAb2WOEzg"
      },
      "source": [
        "# Ex1\n",
        "Create a tensor a from list(range(9)) size offset stride 체크\n"
      ]
    },
    {
      "cell_type": "code",
      "metadata": {
        "colab": {
          "base_uri": "https://localhost:8080/"
        },
        "id": "aW23qg44Risi",
        "outputId": "ef968697-8819-43ea-b221-9ce7c8d32bbb"
      },
      "source": [
        "import torch\n",
        "a=torch.tensor(range(0,9))\n",
        "a"
      ],
      "execution_count": 9,
      "outputs": [
        {
          "output_type": "execute_result",
          "data": {
            "text/plain": [
              "tensor([0, 1, 2, 3, 4, 5, 6, 7, 8])"
            ]
          },
          "metadata": {
            "tags": []
          },
          "execution_count": 9
        }
      ]
    },
    {
      "cell_type": "code",
      "metadata": {
        "colab": {
          "base_uri": "https://localhost:8080/"
        },
        "id": "gDDnGyIySdVm",
        "outputId": "e21706df-3743-40d2-e381-6083351ed431"
      },
      "source": [
        "b=a.view(3,3)\n",
        "b"
      ],
      "execution_count": 10,
      "outputs": [
        {
          "output_type": "execute_result",
          "data": {
            "text/plain": [
              "tensor([[0, 1, 2],\n",
              "        [3, 4, 5],\n",
              "        [6, 7, 8]])"
            ]
          },
          "metadata": {
            "tags": []
          },
          "execution_count": 10
        }
      ]
    },
    {
      "cell_type": "markdown",
      "metadata": {
        "id": "aqpOUOp4TTAa"
      },
      "source": [
        "view function은 주어진 array를 (row개수,column개수)로 나눈다"
      ]
    },
    {
      "cell_type": "code",
      "metadata": {
        "colab": {
          "base_uri": "https://localhost:8080/"
        },
        "id": "VAqaAtzpTaV4",
        "outputId": "2370f987-5419-4d51-c27f-6f19fa919bb2"
      },
      "source": [
        "c=torch.tensor\n",
        "c = b[1:,1:]\n",
        "c"
      ],
      "execution_count": 12,
      "outputs": [
        {
          "output_type": "execute_result",
          "data": {
            "text/plain": [
              "tensor([[4, 5],\n",
              "        [7, 8]])"
            ]
          },
          "metadata": {
            "tags": []
          },
          "execution_count": 12
        }
      ]
    },
    {
      "cell_type": "code",
      "metadata": {
        "id": "NwK0UBMEUZAA"
      },
      "source": [
        ""
      ],
      "execution_count": null,
      "outputs": []
    },
    {
      "cell_type": "markdown",
      "metadata": {
        "id": "tNOknl9gXRY4"
      },
      "source": [
        "# 2. Pick a mathematical operation like cosine or square root. Can you find a corresponding function in the torch library\n",
        "a. Apply the function element-wise to a. Why does it return an error?\n",
        "\n",
        "b. What operation is required to make the function work?\n",
        "\n",
        "c. Is there a version of your function that operates in place?\n",
        "\n",
        "-> googling해서 찾음!"
      ]
    }
  ]
}