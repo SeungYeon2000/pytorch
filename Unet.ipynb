{
  "nbformat": 4,
  "nbformat_minor": 0,
  "metadata": {
    "colab": {
      "name": "Unet.ipynb",
      "provenance": [],
      "authorship_tag": "ABX9TyNq9hN7t6AG8xDab71lsU4e",
      "include_colab_link": true
    },
    "kernelspec": {
      "name": "python3",
      "display_name": "Python 3"
    },
    "language_info": {
      "name": "python"
    }
  },
  "cells": [
    {
      "cell_type": "markdown",
      "metadata": {
        "id": "view-in-github",
        "colab_type": "text"
      },
      "source": [
        "<a href=\"https://colab.research.google.com/github/SeungYeon2000/pytorch/blob/main/Unet.ipynb\" target=\"_parent\"><img src=\"https://colab.research.google.com/assets/colab-badge.svg\" alt=\"Open In Colab\"/></a>"
      ]
    },
    {
      "cell_type": "markdown",
      "metadata": {
        "id": "DxWnz8MCwLaN"
      },
      "source": [
        "# UNET 이란?\n",
        "\n",
        "-Segmentation(모든 픽셀의 레이블을 예측)을 목적으로 제안된 End-to-End 방식의 FCN(fully connected network) 기반 모델\n",
        "\n",
        "-입력 이미지의 전반적인 context 정보를 얻기 위한 수축 단계(contraction path)와 Coarse map에서 dense prediction을 얻기 위한 팽창 단계(expanding path)가 대칭 형태로 구성되어 있음\n",
        "\n",
        "-FCN skip architecture 개념을 활용해, 얕은 층의 feature map과 깊은 층의 feature map을 결합함으로써, localization과 context(semantic information) 사이의 편향(분산) 해결"
      ]
    },
    {
      "cell_type": "markdown",
      "metadata": {
        "id": "qSfxHnYz1z5q"
      },
      "source": [
        "UNET : contraction(수축단계), bottleneck(아래부분, 중화역할), expansion(확장) \n",
        "1. contraction 분야, contraction 블럭 - 각 block은 input에 2개의 3X3 convolution layers + 2X2 max pooling을 가짐. 각 블럭 이후 kernel 수, feature map은 두 배가 되어 구조가 효과적 학습을 하도록 함.\n",
        "2. bottleneck : contraction layer랑 expansion layer 사이를 중화시킴. 2개의 3X3 CNN layers + 2X2 up convolution layer.\n",
        "3. expansion 분야 : 각 블럭 input은 2개의 3X3 CNN layers + 2X2 upsampling layer.convolution layer로 사용된 feature maps의 각 블럭 이후 대칭 유지 위해 반으로 줄어듦. 그러나 상응하는 contraction layer의 feature maps에 의해 인풋이 추가됨. expansion 블럭 수 = contraction 블럭 수. 결국 feature maps와 함께 또다른 3X3 CNN 레이어를 지나가는 결과 매핑은 필요한 segments의 수와 동일."
      ]
    }
  ]
}