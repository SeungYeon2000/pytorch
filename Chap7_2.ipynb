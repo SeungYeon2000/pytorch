{
  "nbformat": 4,
  "nbformat_minor": 0,
  "metadata": {
    "colab": {
      "name": "Chap7-2.ipynb",
      "provenance": [],
      "authorship_tag": "ABX9TyMpfqeyksLTsOuZ8JoV6edv",
      "include_colab_link": true
    },
    "kernelspec": {
      "name": "python3",
      "display_name": "Python 3"
    },
    "language_info": {
      "name": "python"
    }
  },
  "cells": [
    {
      "cell_type": "markdown",
      "metadata": {
        "id": "view-in-github",
        "colab_type": "text"
      },
      "source": [
        "<a href=\"https://colab.research.google.com/github/SeungYeon2000/pytorch/blob/main/Chap7_2.ipynb\" target=\"_parent\"><img src=\"https://colab.research.google.com/assets/colab-badge.svg\" alt=\"Open In Colab\"/></a>"
      ]
    },
    {
      "cell_type": "code",
      "metadata": {
        "colab": {
          "base_uri": "https://localhost:8080/"
        },
        "id": "wxkFPvXcZ3q3",
        "outputId": "9cd7b0d5-5cad-47f0-f987-f4d1c9dbff84"
      },
      "source": [
        "# In[1]:\n",
        "from matplotlib import pyplot as plt\n",
        "import numpy as np\n",
        "import torch\n",
        "\n",
        "torch.set_printoptions(edgeitems=2, linewidth=75)\n",
        "torch.manual_seed(123)"
      ],
      "execution_count": 19,
      "outputs": [
        {
          "output_type": "execute_result",
          "data": {
            "text/plain": [
              "<torch._C.Generator at 0x7f0251494a90>"
            ]
          },
          "metadata": {
            "tags": []
          },
          "execution_count": 19
        }
      ]
    },
    {
      "cell_type": "code",
      "metadata": {
        "id": "taEjzesWbT9F"
      },
      "source": [
        "#In [2]:\n",
        "class_names = ['airplane','automobile','bird','cat','deer',\n",
        "               'dog','frog','horse','ship','truck']"
      ],
      "execution_count": 20,
      "outputs": []
    },
    {
      "cell_type": "code",
      "metadata": {
        "id": "zs0MGJkVZ8YI"
      },
      "source": [
        "#In [3]:\n",
        "from torchvision import datasets, transforms\n",
        "data_path = '../data-unversioned/p1ch7/'\n",
        "cifar10 = datasets.CIFAR10(\n",
        "    data_path, train=True, download=False,\n",
        "    transform=transforms.Compose([\n",
        "        transforms.ToTensor(),\n",
        "        transforms.Normalize((0.4915, 0.4823, 0.4468),\n",
        "                             (0.2470, 0.2435, 0.2616))\n",
        "    ]))"
      ],
      "execution_count": 21,
      "outputs": []
    },
    {
      "cell_type": "code",
      "metadata": {
        "id": "GUebi1zUaBJE"
      },
      "source": [
        "#In [4]:\n",
        "cifar10_val = datasets.CIFAR10(\n",
        "    data_path, train=False, download=False,\n",
        "    transform=transforms.Compose([\n",
        "        transforms.ToTensor(),\n",
        "        transforms.Normalize((0.4915, 0.4823, 0.4468),\n",
        "                             (0.2470, 0.2435, 0.2616))\n",
        "    ]))"
      ],
      "execution_count": 27,
      "outputs": []
    },
    {
      "cell_type": "code",
      "metadata": {
        "id": "U4K1_bP8afgM"
      },
      "source": [
        "# In[5]:\n",
        "label_map = {0:0,2:1}\n",
        "class_names = ['airplane','bird']\n",
        "cifar2 = [(img,label_map[label])      # cifar2는 Dataset의 기본 필요조건 만족 - __len__ & __getitem__ 정의됨.\n",
        "          for img, label in cifar10\n",
        "          if label in [0,2]]\n",
        "cifar2_val = [(img,label_map[label])\n",
        "              for img, label in cifar10_val\n",
        "              if label in [0,2]]"
      ],
      "execution_count": 28,
      "outputs": []
    },
    {
      "cell_type": "code",
      "metadata": {
        "id": "Y6ZDavsBakbK"
      },
      "source": [
        "# In[6]:\n",
        "import torch.nn as nn\n",
        "\n",
        "n_out = 2\n",
        "\n",
        "model = nn.Sequential(\n",
        "            nn.Linear(\n",
        "                3072,\n",
        "                512,        # hidden layer size (임의 설정)\n",
        "            ),\n",
        "            nn.Tanh(),\n",
        "            nn.Linear(\n",
        "                512,        # hidden layer size\n",
        "                n_out,\n",
        "            )\n",
        ")"
      ],
      "execution_count": 29,
      "outputs": []
    },
    {
      "cell_type": "code",
      "metadata": {
        "id": "v4_Rjnnlammg"
      },
      "source": [
        "# In[7]:\n",
        "def softmax(x):\n",
        "    return torch.exp(x) / torch.exp(x).sum()"
      ],
      "execution_count": 30,
      "outputs": []
    },
    {
      "cell_type": "code",
      "metadata": {
        "colab": {
          "base_uri": "https://localhost:8080/"
        },
        "id": "Pbm29e2panPa",
        "outputId": "21f94adc-d2c6-474f-8fd0-b66893e55b1b"
      },
      "source": [
        "# In[8]:\n",
        "x = torch.tensor([1.0,2.0,3.0])\n",
        "softmax(x)"
      ],
      "execution_count": 31,
      "outputs": [
        {
          "output_type": "execute_result",
          "data": {
            "text/plain": [
              "tensor([0.0900, 0.2447, 0.6652])"
            ]
          },
          "metadata": {
            "tags": []
          },
          "execution_count": 31
        }
      ]
    },
    {
      "cell_type": "code",
      "metadata": {
        "colab": {
          "base_uri": "https://localhost:8080/"
        },
        "id": "OuNoyAMganRv",
        "outputId": "752a4b09-bb1d-4aec-d401-9e5146b88bd4"
      },
      "source": [
        "# In[9]:\n",
        "softmax(x).sum()"
      ],
      "execution_count": 32,
      "outputs": [
        {
          "output_type": "execute_result",
          "data": {
            "text/plain": [
              "tensor(1.)"
            ]
          },
          "metadata": {
            "tags": []
          },
          "execution_count": 32
        }
      ]
    },
    {
      "cell_type": "code",
      "metadata": {
        "colab": {
          "base_uri": "https://localhost:8080/"
        },
        "id": "G1plmRFYanUI",
        "outputId": "85e49797-2750-4a77-c5e9-976b309793a2"
      },
      "source": [
        "# In[10]:\n",
        "softmax = nn.Softmax(dim=1)     #차원지정=1\n",
        "\n",
        "x = torch.tensor ([[1.0,2.0,3.0],\n",
        "                  [1.0,2.0,3.0]])\n",
        "softmax(x)"
      ],
      "execution_count": 33,
      "outputs": [
        {
          "output_type": "execute_result",
          "data": {
            "text/plain": [
              "tensor([[0.0900, 0.2447, 0.6652],\n",
              "        [0.0900, 0.2447, 0.6652]])"
            ]
          },
          "metadata": {
            "tags": []
          },
          "execution_count": 33
        }
      ]
    },
    {
      "cell_type": "code",
      "metadata": {
        "id": "JUBb4oJ6avSy"
      },
      "source": [
        "# In[11]:\n",
        "model = nn.Sequential(\n",
        "            nn.Linear(3072,512),\n",
        "            nn.Tanh(),\n",
        "            nn.Linear(512,2),\n",
        "            nn.Softmax(dim=1))\n",
        "# softmax를 model 끝에 추가, 이제 probabilities 생성할 준비 됨."
      ],
      "execution_count": 34,
      "outputs": []
    },
    {
      "cell_type": "code",
      "metadata": {
        "colab": {
          "base_uri": "https://localhost:8080/",
          "height": 283
        },
        "id": "lqebGtfAayf8",
        "outputId": "683b0dd2-de68-4f86-d2f0-3aef3df35802"
      },
      "source": [
        "# In[12]:\n",
        "img, _ = cifar2[0]\n",
        "plt.imshow(img.permute(1,2,0))\n",
        "plt.show()"
      ],
      "execution_count": 35,
      "outputs": [
        {
          "output_type": "stream",
          "text": [
            "Clipping input data to the valid range for imshow with RGB data ([0..1] for floats or [0..255] for integers).\n"
          ],
          "name": "stderr"
        },
        {
          "output_type": "display_data",
          "data": {
            "image/png": "[encoded data removed]",
            "text/plain": [
              "<Figure size 432x288 with 1 Axes>"
            ]
          },
          "metadata": {
            "tags": [],
            "needs_background": "light"
          }
        }
      ]
    },
    {
      "cell_type": "code",
      "metadata": {
        "id": "EeMjD2LNa2Ty"
      },
      "source": [
        "# In[13]:\n",
        "img_batch = img.view(-1).unsqueeze(0)       # make right 차원 -> 1D tensor로, 추가 차원을 0번째 자리에 넣어줌."
      ],
      "execution_count": 36,
      "outputs": []
    },
    {
      "cell_type": "code",
      "metadata": {
        "colab": {
          "base_uri": "https://localhost:8080/"
        },
        "id": "ycV7xNVtb2Oh",
        "outputId": "707257c4-14df-4602-9653-3b20651a249e"
      },
      "source": [
        "# In[14]:\n",
        "out = model(img_batch)\n",
        "out                       # probabilities (그러나 W,H 훈련 안 된 부정확한 데이터)"
      ],
      "execution_count": 37,
      "outputs": [
        {
          "output_type": "execute_result",
          "data": {
            "text/plain": [
              "tensor([[0.3981, 0.6019]], grad_fn=<SoftmaxBackward>)"
            ]
          },
          "metadata": {
            "tags": []
          },
          "execution_count": 37
        }
      ]
    },
    {
      "cell_type": "markdown",
      "metadata": {
        "id": "WeCW8teJc49d"
      },
      "source": [
        "loss function 이 있어야 유의미함 (back propagation후에), maximum probability 필요 : torch.max 필요"
      ]
    },
    {
      "cell_type": "code",
      "metadata": {
        "colab": {
          "base_uri": "https://localhost:8080/"
        },
        "id": "OaDEd7QrcKBy",
        "outputId": "bb2d073c-7348-4297-8b10-a1c707b843de"
      },
      "source": [
        "# In[15]:\n",
        "_, index = torch.max(out,dim=1)\n",
        "index\n",
        "# 결과가 tensor([1])이니까 bird라는 뜻"
      ],
      "execution_count": 39,
      "outputs": [
        {
          "output_type": "execute_result",
          "data": {
            "text/plain": [
              "tensor([1])"
            ]
          },
          "metadata": {
            "tags": []
          },
          "execution_count": 39
        }
      ]
    },
    {
      "cell_type": "markdown",
      "metadata": {
        "id": "edKy-0NkdZaK"
      },
      "source": [
        "# **7.2.5 A loss for classifying**\n",
        "MSE 사용 X, 대신 잘못된 분류를 줄이기\n",
        "\n",
        "out[class_index]를 최대화해야 함. -> out : output of softmax / class_index : vector(airplane-0,bird-1 대응)\n",
        "\n",
        "Negative Log Likelihood(NLL) :\n",
        "loss function high & 가능성 low\n",
        "NLL = -sum(log(out_i[c_i])) ; sum - N samples의 합, c_i - sample i 에 대한 정확한 분류\n",
        "\n",
        "분류에 대한 loss 계산 과정\n",
        "1. forward pass 작동, last layer에서 결과값 얻기\n",
        "2. softmax 계산, 확률 얻기\n",
        "3. 맞는 분류에 해당하는 예측된 확률 취하기.\n",
        "4. 로그 계산하고 - 붙여서 loss에 추가\n",
        "\n",
        "nn.Softmax 대신 nn.LogSoftmax 사용\n",
        "\n",
        "cross entrophy loss >>> MSE loss"
      ]
    },
    {
      "cell_type": "code",
      "metadata": {
        "id": "gYtAmmbZczn7"
      },
      "source": [
        "# 결과 모듈로 nn.LogSoftmax 사용하도록 수정하기\n",
        "# model = nn.Sequential(\n",
        "#          nn.Linear(3072,512),\n",
        "#          nn.Tanh(),\n",
        "#          nn.Linear(512,2),\n",
        "#          nn.LogSoftmax(dim=1))"
      ],
      "execution_count": null,
      "outputs": []
    },
    {
      "cell_type": "code",
      "metadata": {
        "id": "qima-E6liEyH"
      },
      "source": [
        "# NLL loss 실행\n",
        "# loss = nn.NLLLoss()"
      ],
      "execution_count": null,
      "outputs": []
    },
    {
      "cell_type": "markdown",
      "metadata": {
        "id": "IR1AeOJiijQ2"
      },
      "source": [
        "# **7.2.6 Training the classifier**\n",
        "일반적으로 minibatches는 우리가 training 전에 설정하는 constant size이고 (learning rate처럼) hyperparameters라고 불린다. (parameters와는 다른 개념)\n",
        "\n",
        "torch.utils.data module : minibatches(DataLoader)에서 정보를 섞고 조직하도록 함. DataLoader는 dataset에서 minibatches를 sample하고 여러 샘플링 전략을 고르게 함.\n",
        "\n",
        "nn.LogSoftmax + nn.NLLLoss = nn.CrossEntropyLoss\n",
        "\n",
        "loss_fn = nn.CrossentropyLoss()를 쓰는 경우가 많음, 간단하니까."
      ]
    },
    {
      "cell_type": "markdown",
      "metadata": {
        "id": "u-C1Mu7moUJL"
      },
      "source": [
        "# **7.2.7 The Limits of going fully connected**\n",
        "output pixel 당 하나의 Weight의 벡터가 있음.\n",
        "\n",
        "fully connected module (with an input image) 이면 모든 input pixel은 다른 pixel과 결합해 결과에서 각 element를 생성. ntranslation invariant가 아님."
      ]
    }
  ]
}